{
 "cells": [
  {
   "cell_type": "code",
   "execution_count": 6,
   "id": "5230d179",
   "metadata": {},
   "outputs": [
    {
     "name": "stdout",
     "output_type": "stream",
     "text": [
      "1982\n",
      "1980\n",
      "1973\n",
      "Hjds\n",
      "dsaiu\n",
      "hs\n"
     ]
    }
   ],
   "source": [
    "years = [1982,1980,1973,\"Hjds\",\"dsaiu\",\"hs\"]\n",
    "N = len(years)\n",
    "\n",
    "for i in range(N):\n",
    "    print(years[i])"
   ]
  },
  {
   "cell_type": "code",
   "execution_count": 8,
   "id": "364bae9d",
   "metadata": {},
   "outputs": [
    {
     "name": "stdout",
     "output_type": "stream",
     "text": [
      "1\n",
      "2\n",
      "3\n",
      "4\n",
      "5\n",
      "6\n",
      "7\n",
      "8\n",
      "9\n"
     ]
    }
   ],
   "source": [
    "for i in range(1,10):\n",
    "    print(i)"
   ]
  },
  {
   "cell_type": "code",
   "execution_count": 9,
   "id": "9be81da2",
   "metadata": {
    "scrolled": true
   },
   "outputs": [
    {
     "name": "stdout",
     "output_type": "stream",
     "text": [
      "1982\n",
      "1980\n",
      "1973\n",
      "Hjds\n",
      "dsaiu\n",
      "hs\n"
     ]
    }
   ],
   "source": [
    "for a in years:\n",
    "    print(a)"
   ]
  },
  {
   "cell_type": "code",
   "execution_count": 5,
   "id": "6c8633b7",
   "metadata": {},
   "outputs": [
    {
     "name": "stdout",
     "output_type": "stream",
     "text": [
      "-5\n",
      "-4\n",
      "-3\n",
      "-2\n",
      "-1\n",
      "0\n",
      "1\n",
      "2\n",
      "3\n",
      "4\n"
     ]
    }
   ],
   "source": [
    "# Write a for loop that prints out all the elements between -5 and 5 using the range function.\n",
    "\n",
    "for i in range(-5,5):\n",
    "    print(i)"
   ]
  },
  {
   "cell_type": "code",
   "execution_count": 6,
   "id": "f1775ac5",
   "metadata": {},
   "outputs": [
    {
     "name": "stdout",
     "output_type": "stream",
     "text": [
      "rock\n",
      "R&B\n",
      "Soundtrack\n",
      "R&B\n",
      "soul\n",
      "pop\n"
     ]
    }
   ],
   "source": [
    "Genres = ['rock', 'R&B', 'Soundtrack', 'R&B', 'soul', 'pop']\n",
    "\n",
    "for i in Genres:\n",
    "    print(i)"
   ]
  },
  {
   "cell_type": "markdown",
   "id": "63e9bf1a",
   "metadata": {},
   "source": [
    "# What is while loop?"
   ]
  },
  {
   "cell_type": "code",
   "execution_count": 4,
   "id": "37c69919",
   "metadata": {},
   "outputs": [
    {
     "name": "stdout",
     "output_type": "stream",
     "text": [
      "1982\n",
      "1980\n",
      "1456\n",
      "1325\n",
      "This End result took  4  Loops\n"
     ]
    }
   ],
   "source": [
    "dates = [1982, 1980, 1456, 1325, 1973, 2000]\n",
    "\n",
    "i = 0\n",
    "year = dates[0]\n",
    "\n",
    "while (year != 1973):\n",
    "    print(year)\n",
    "    i = 1 + i\n",
    "    year = dates[i]\n",
    "    \n",
    "print (\"This End result took \", i ,\" Loops\")\n"
   ]
  },
  {
   "cell_type": "code",
   "execution_count": 11,
   "id": "2aab9eae",
   "metadata": {},
   "outputs": [],
   "source": [
    "# Write a while loop to display the values of the Rating of an album playlist stored in thePlayListRatings list. \n",
    "# If the score is less than 6, exit the loop. The list PlayListRatings is given by: \n",
    "\n",
    "PlayListRatings = [10, 9.5, 10, 8, 7.5, 5, 10, 10]\n",
    "\n",
    "i = 0\n",
    "score = PlayListRatings[0]\n",
    "\n",
    "while (score == 6):\n",
    "    print(score)\n",
    "    i = 1 + i\n",
    "    score = PlayListRatings[i]"
   ]
  },
  {
   "cell_type": "code",
   "execution_count": 9,
   "id": "c7f5861c",
   "metadata": {},
   "outputs": [
    {
     "name": "stdout",
     "output_type": "stream",
     "text": [
      "10\n",
      "9.5\n",
      "8\n"
     ]
    }
   ],
   "source": [
    "PlayListRatings = [10, 9.5, 10, 8, 7.5, 5, 10, 10]\n",
    "i = 0\n",
    "Rating = PlayListRatings[0]\n",
    "while(i < len(PlayListRatings) and Rating >= 6):\n",
    "    print(Rating)\n",
    "    i = i + 1 # This prints the value 10 only once \n",
    "    Rating = PlayListRatings[i]\n",
    "    i = i + 1 \n",
    "# Try uncommenting the line and comment the previous i = i + 1, \n",
    "# and see the difference, 10 value will get printed twice because when the loop starts it will print Rating \n",
    "# and then with PlayListRatings[0], it will again assign the value 10 to Ratings. "
   ]
  },
  {
   "cell_type": "code",
   "execution_count": null,
   "id": "4ce8d43a",
   "metadata": {},
   "outputs": [],
   "source": []
  }
 ],
 "metadata": {
  "kernelspec": {
   "display_name": "Python 3 (ipykernel)",
   "language": "python",
   "name": "python3"
  },
  "language_info": {
   "codemirror_mode": {
    "name": "ipython",
    "version": 3
   },
   "file_extension": ".py",
   "mimetype": "text/x-python",
   "name": "python",
   "nbconvert_exporter": "python",
   "pygments_lexer": "ipython3",
   "version": "3.10.9"
  }
 },
 "nbformat": 4,
 "nbformat_minor": 5
}
