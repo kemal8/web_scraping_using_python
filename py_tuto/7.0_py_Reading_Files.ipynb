{
 "cells": [
  {
   "cell_type": "code",
   "execution_count": 3,
   "id": "efeb5751",
   "metadata": {},
   "outputs": [
    {
     "name": "stderr",
     "output_type": "stream",
     "text": [
      "IOPub data rate exceeded.\n",
      "The notebook server will temporarily stop sending output\n",
      "to the client in order to avoid crashing it.\n",
      "To change this limit, set the config variable\n",
      "`--NotebookApp.iopub_data_rate_limit`.\n",
      "\n",
      "Current values:\n",
      "NotebookApp.iopub_data_rate_limit=1000000.0 (bytes/sec)\n",
      "NotebookApp.rate_limit_window=3.0 (secs)\n",
      "\n"
     ]
    }
   ],
   "source": [
    "# Define the file path\n",
    "file_path = r'C:\\Users\\User\\Projects\\web_scraping_using_python\\data\\E_commerce_Dataset.csv'\n",
    "\n",
    "# Open the file for reading (use 'r' mode)\n",
    "try:\n",
    "    with open(file_path, 'r') as file:\n",
    "        # Read the entire content into a variable\n",
    "        file_content = file.read()\n",
    "\n",
    "        # Now you can process and extract data from 'file_content' as needed\n",
    "        # For example, you can print the content:\n",
    "        print(file_content)\n",
    "\n",
    "except FileNotFoundError:\n",
    "    print(f\"The file '{file_path}' was not found.\")\n",
    "except Exception as e:\n",
    "    print(f\"An error occurred: {e}\")\n",
    "\n",
    "# The file is automatically closed when exiting the 'with' block"
   ]
  },
  {
   "cell_type": "code",
   "execution_count": null,
   "id": "70711bd3",
   "metadata": {},
   "outputs": [],
   "source": []
  }
 ],
 "metadata": {
  "kernelspec": {
   "display_name": "Python 3 (ipykernel)",
   "language": "python",
   "name": "python3"
  },
  "language_info": {
   "codemirror_mode": {
    "name": "ipython",
    "version": 3
   },
   "file_extension": ".py",
   "mimetype": "text/x-python",
   "name": "python",
   "nbconvert_exporter": "python",
   "pygments_lexer": "ipython3",
   "version": "3.10.9"
  }
 },
 "nbformat": 4,
 "nbformat_minor": 5
}
