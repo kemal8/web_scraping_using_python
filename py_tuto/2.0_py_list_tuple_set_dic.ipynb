{
 "cells": [
  {
   "cell_type": "code",
   "execution_count": 8,
   "id": "304d56ef",
   "metadata": {},
   "outputs": [
    {
     "data": {
      "text/plain": [
       "list"
      ]
     },
     "execution_count": 8,
     "metadata": {},
     "output_type": "execute_result"
    }
   ],
   "source": [
    "# List is a collection which is ordered and changeable. Allows duplicate members.\n",
    "names_list = [\"kemal\",\"dini\",\"jana\",\"vini\",\"Jak\",\"hash\",\"tish\"]\n",
    "\n",
    "# Tuple is a collection which is ordered and unchangeable. Allows duplicate members.\n",
    "fruits_tuple = (\"apple\", \"banana\", \"cherry\", \"orange\", \"grape\")\n",
    "\n",
    "# Set is a collection which is unordered, unchangeable*, and unindexed. No duplicate members.\n",
    "vegetables_set = {\"carrot\", \"spinach\", \"broccoli\", \"tomato\", \"cucumber\"}\n",
    "\n",
    "# Dictionary is a collection which is ordered** and changeable. No duplicate members.\n",
    "vehicles_dictionary = [\n",
    "    {\"make\": \"Toyota\", \"model\": \"Camry\", \"year\": 2022},\n",
    "    {\"make\": \"Honda\", \"model\": \"Civic\", \"year\": 2021},\n",
    "    {\"make\": \"Ford\", \"model\": \"F-150\", \"year\": 2023},\n",
    "    {\"make\": \"Chevrolet\", \"model\": \"Equinox\", \"year\": 2020}\n",
    "]\n",
    "\n",
    "type(names_list)"
   ]
  },
  {
   "cell_type": "code",
   "execution_count": 9,
   "id": "ef9c8547",
   "metadata": {},
   "outputs": [
    {
     "data": {
      "text/plain": [
       "tuple"
      ]
     },
     "execution_count": 9,
     "metadata": {},
     "output_type": "execute_result"
    }
   ],
   "source": [
    "type(fruits_tuple)"
   ]
  },
  {
   "cell_type": "code",
   "execution_count": 10,
   "id": "d03c4280",
   "metadata": {},
   "outputs": [
    {
     "data": {
      "text/plain": [
       "set"
      ]
     },
     "execution_count": 10,
     "metadata": {},
     "output_type": "execute_result"
    }
   ],
   "source": [
    "type(vegetables_set)"
   ]
  },
  {
   "cell_type": "code",
   "execution_count": 11,
   "id": "c16b74d7",
   "metadata": {},
   "outputs": [
    {
     "data": {
      "text/plain": [
       "list"
      ]
     },
     "execution_count": 11,
     "metadata": {},
     "output_type": "execute_result"
    }
   ],
   "source": [
    "type(vehicles_dictionary)"
   ]
  },
  {
   "cell_type": "markdown",
   "id": "9ab6dbad",
   "metadata": {},
   "source": [
    "# Indexing Tuple"
   ]
  },
  {
   "cell_type": "code",
   "execution_count": 12,
   "id": "7ac1abcb",
   "metadata": {},
   "outputs": [],
   "source": [
    "music_tuple = (\"disco\",10,1.2)"
   ]
  },
  {
   "cell_type": "code",
   "execution_count": 13,
   "id": "7679e52e",
   "metadata": {},
   "outputs": [
    {
     "name": "stdout",
     "output_type": "stream",
     "text": [
      "('disco', 10, 1.2)\n"
     ]
    }
   ],
   "source": [
    "print(music_tuple)"
   ]
  },
  {
   "cell_type": "code",
   "execution_count": 15,
   "id": "a4925207",
   "metadata": {},
   "outputs": [
    {
     "name": "stdout",
     "output_type": "stream",
     "text": [
      "<class 'str'>\n",
      "<class 'int'>\n",
      "<class 'float'>\n"
     ]
    }
   ],
   "source": [
    "print(type(music_tuple[0]))\n",
    "print(type(music_tuple[1]))\n",
    "print(type(music_tuple[2]))"
   ]
  },
  {
   "cell_type": "markdown",
   "id": "8ec8cbd2",
   "metadata": {},
   "source": [
    "# Concatenate Tuples"
   ]
  },
  {
   "cell_type": "code",
   "execution_count": 20,
   "id": "2ff2f3ef",
   "metadata": {},
   "outputs": [
    {
     "data": {
      "text/plain": [
       "('disco', 10, 1.2, 'hard rock', 10)"
      ]
     },
     "execution_count": 20,
     "metadata": {},
     "output_type": "execute_result"
    }
   ],
   "source": [
    "new_music_tuple = music_tuple + (\"hard rock\", 10)\n",
    "new_music_tuple"
   ]
  },
  {
   "cell_type": "code",
   "execution_count": 19,
   "id": "e810bf7e",
   "metadata": {
    "scrolled": true
   },
   "outputs": [
    {
     "name": "stdout",
     "output_type": "stream",
     "text": [
      "('disco', 10, 1.2, 'hard rock', 10)\n"
     ]
    }
   ],
   "source": [
    "print(new_music_tuple)"
   ]
  },
  {
   "cell_type": "markdown",
   "id": "020d5554",
   "metadata": {},
   "source": [
    "# Slicing Tuples"
   ]
  },
  {
   "cell_type": "code",
   "execution_count": 22,
   "id": "1d32f679",
   "metadata": {},
   "outputs": [
    {
     "data": {
      "text/plain": [
       "('disco', 10, 1.2, 'hard rock')"
      ]
     },
     "execution_count": 22,
     "metadata": {},
     "output_type": "execute_result"
    }
   ],
   "source": [
    "new_music_tuple[0:4]"
   ]
  },
  {
   "cell_type": "code",
   "execution_count": 24,
   "id": "a8a45b96",
   "metadata": {},
   "outputs": [
    {
     "data": {
      "text/plain": [
       "4"
      ]
     },
     "execution_count": 24,
     "metadata": {},
     "output_type": "execute_result"
    }
   ],
   "source": [
    "len(new_music_tuple[0:4])"
   ]
  },
  {
   "cell_type": "code",
   "execution_count": 25,
   "id": "356ccd7e",
   "metadata": {},
   "outputs": [
    {
     "data": {
      "text/plain": [
       "(10, 1.2)"
      ]
     },
     "execution_count": 25,
     "metadata": {},
     "output_type": "execute_result"
    }
   ],
   "source": [
    "new_music_tuple[1:3]"
   ]
  },
  {
   "cell_type": "markdown",
   "id": "a40c0457",
   "metadata": {},
   "source": [
    "# Sorting Tuples"
   ]
  },
  {
   "cell_type": "code",
   "execution_count": 26,
   "id": "2c236688",
   "metadata": {},
   "outputs": [
    {
     "ename": "TypeError",
     "evalue": "'<' not supported between instances of 'int' and 'str'",
     "output_type": "error",
     "traceback": [
      "\u001b[1;31m---------------------------------------------------------------------------\u001b[0m",
      "\u001b[1;31mTypeError\u001b[0m                                 Traceback (most recent call last)",
      "Cell \u001b[1;32mIn[26], line 1\u001b[0m\n\u001b[1;32m----> 1\u001b[0m sort_new_music_tuple \u001b[38;5;241m=\u001b[39m \u001b[38;5;28;43msorted\u001b[39;49m\u001b[43m(\u001b[49m\u001b[43mnew_music_tuple\u001b[49m\u001b[43m)\u001b[49m\n",
      "\u001b[1;31mTypeError\u001b[0m: '<' not supported between instances of 'int' and 'str'"
     ]
    }
   ],
   "source": [
    "sort_new_music_tuple = sorted(new_music_tuple)"
   ]
  },
  {
   "cell_type": "code",
   "execution_count": 27,
   "id": "b474b5e9",
   "metadata": {},
   "outputs": [],
   "source": [
    "num_tuple = (1,5,6,7,8,9,4,5,2,5,8,6,11,225,0,3)"
   ]
  },
  {
   "cell_type": "code",
   "execution_count": 28,
   "id": "04cf211f",
   "metadata": {},
   "outputs": [
    {
     "data": {
      "text/plain": [
       "(1, 5, 6, 7, 8, 9, 4, 5, 2, 5, 8, 6, 11, 225, 0, 3)"
      ]
     },
     "execution_count": 28,
     "metadata": {},
     "output_type": "execute_result"
    }
   ],
   "source": [
    "num_tuple"
   ]
  },
  {
   "cell_type": "code",
   "execution_count": 31,
   "id": "00e9df08",
   "metadata": {},
   "outputs": [
    {
     "name": "stdout",
     "output_type": "stream",
     "text": [
      "[0, 1, 2, 3, 4, 5, 5, 5, 6, 6, 7, 8, 8, 9, 11, 225]\n"
     ]
    }
   ],
   "source": [
    "sort_num_tuple = sorted(num_tuple)\n",
    "print(sort_num_tuple)"
   ]
  },
  {
   "cell_type": "markdown",
   "id": "cd5dc721",
   "metadata": {},
   "source": [
    "# Nested Tuple"
   ]
  },
  {
   "cell_type": "code",
   "execution_count": 33,
   "id": "92bd0a72",
   "metadata": {},
   "outputs": [
    {
     "name": "stdout",
     "output_type": "stream",
     "text": [
      "(1, 2, ('pop', 'rock'), (3, 4), ('disco', (1, 2)))\n"
     ]
    }
   ],
   "source": [
    "nested_tuple =(1, 2, (\"pop\", \"rock\") ,(3,4),(\"disco\",(1,2)))\n",
    "print(nested_tuple)"
   ]
  },
  {
   "cell_type": "code",
   "execution_count": 34,
   "id": "58510f3a",
   "metadata": {},
   "outputs": [
    {
     "name": "stdout",
     "output_type": "stream",
     "text": [
      "Element 0 of Tuple:  1\n",
      "Element 1 of Tuple:  2\n",
      "Element 2 of Tuple:  ('pop', 'rock')\n",
      "Element 3 of Tuple:  (3, 4)\n",
      "Element 4 of Tuple:  ('disco', (1, 2))\n"
     ]
    }
   ],
   "source": [
    "print(\"Element 0 of Tuple: \", nested_tuple[0])\n",
    "print(\"Element 1 of Tuple: \", nested_tuple[1])\n",
    "print(\"Element 2 of Tuple: \", nested_tuple[2])\n",
    "print(\"Element 3 of Tuple: \", nested_tuple[3])\n",
    "print(\"Element 4 of Tuple: \", nested_tuple[4])"
   ]
  },
  {
   "cell_type": "code",
   "execution_count": 35,
   "id": "9303e30c",
   "metadata": {},
   "outputs": [
    {
     "name": "stdout",
     "output_type": "stream",
     "text": [
      "Element 2, 0 of Tuple:  pop\n",
      "Element 2, 1 of Tuple:  rock\n",
      "Element 3, 0 of Tuple:  3\n",
      "Element 3, 1 of Tuple:  4\n",
      "Element 4, 0 of Tuple:  disco\n",
      "Element 4, 1 of Tuple:  (1, 2)\n"
     ]
    }
   ],
   "source": [
    "print(\"Element 2, 0 of Tuple: \",   nested_tuple[2][0])\n",
    "print(\"Element 2, 1 of Tuple: \",   nested_tuple[2][1])\n",
    "print(\"Element 3, 0 of Tuple: \",   nested_tuple[3][0])\n",
    "print(\"Element 3, 1 of Tuple: \",   nested_tuple[3][1])\n",
    "print(\"Element 4, 0 of Tuple: \",   nested_tuple[4][0])\n",
    "print(\"Element 4, 1 of Tuple: \",   nested_tuple[4][1])"
   ]
  },
  {
   "cell_type": "code",
   "execution_count": 37,
   "id": "bddb0441",
   "metadata": {},
   "outputs": [
    {
     "data": {
      "text/plain": [
       "'r'"
      ]
     },
     "execution_count": 37,
     "metadata": {},
     "output_type": "execute_result"
    }
   ],
   "source": [
    "nested_tuple[2][1][0]"
   ]
  },
  {
   "cell_type": "code",
   "execution_count": 38,
   "id": "aed4cb2c",
   "metadata": {},
   "outputs": [
    {
     "data": {
      "text/plain": [
       "'o'"
      ]
     },
     "execution_count": 38,
     "metadata": {},
     "output_type": "execute_result"
    }
   ],
   "source": [
    "nested_tuple[2][1][1]"
   ]
  },
  {
   "cell_type": "code",
   "execution_count": 42,
   "id": "03607be9",
   "metadata": {},
   "outputs": [
    {
     "data": {
      "text/plain": [
       "1"
      ]
     },
     "execution_count": 42,
     "metadata": {},
     "output_type": "execute_result"
    }
   ],
   "source": [
    "nested_tuple.index(2)"
   ]
  },
  {
   "cell_type": "markdown",
   "id": "05bd50a8",
   "metadata": {},
   "source": [
    "# List Operations"
   ]
  },
  {
   "cell_type": "code",
   "execution_count": 43,
   "id": "8be2d517",
   "metadata": {},
   "outputs": [],
   "source": [
    "L = [\"Michael Jackson\", 10.1,1982,\"MJ\",1]"
   ]
  },
  {
   "cell_type": "code",
   "execution_count": 44,
   "id": "e44de625",
   "metadata": {},
   "outputs": [
    {
     "data": {
      "text/plain": [
       "['MJ', 1]"
      ]
     },
     "execution_count": 44,
     "metadata": {},
     "output_type": "execute_result"
    }
   ],
   "source": [
    "L[3:5]"
   ]
  },
  {
   "cell_type": "code",
   "execution_count": 49,
   "id": "f55840ea",
   "metadata": {},
   "outputs": [
    {
     "data": {
      "text/plain": [
       "['Michael Jackson',\n",
       " 10.1,\n",
       " 1982,\n",
       " 'MJ',\n",
       " 1,\n",
       " 'pop',\n",
       " 10,\n",
       " ['Dis', 20],\n",
       " ['Dis', 20],\n",
       " ['Dis', 20],\n",
       " 'pop',\n",
       " 10]"
      ]
     },
     "execution_count": 49,
     "metadata": {},
     "output_type": "execute_result"
    }
   ],
   "source": [
    "L.extend(['pop', 10])\n",
    "L"
   ]
  },
  {
   "cell_type": "code",
   "execution_count": 48,
   "id": "c51d1280",
   "metadata": {},
   "outputs": [
    {
     "data": {
      "text/plain": [
       "['Michael Jackson',\n",
       " 10.1,\n",
       " 1982,\n",
       " 'MJ',\n",
       " 1,\n",
       " 'pop',\n",
       " 10,\n",
       " ['Dis', 20],\n",
       " ['Dis', 20],\n",
       " ['Dis', 20]]"
      ]
     },
     "execution_count": 48,
     "metadata": {},
     "output_type": "execute_result"
    }
   ],
   "source": [
    "L.append(['Dis', 20])\n",
    "L"
   ]
  },
  {
   "cell_type": "code",
   "execution_count": 50,
   "id": "a1adc36c",
   "metadata": {},
   "outputs": [
    {
     "name": "stdout",
     "output_type": "stream",
     "text": [
      "A: ['hard rock', 10, 1.2]\n",
      "B: ['hard rock', 10, 1.2]\n"
     ]
    }
   ],
   "source": [
    "# Copy and Clone List\n",
    "\n",
    "A = [\"hard rock\", 10, 1.2]\n",
    "B = A\n",
    "print('A:', A)\n",
    "print('B:', B)"
   ]
  },
  {
   "cell_type": "code",
   "execution_count": null,
   "id": "10cbd725",
   "metadata": {},
   "outputs": [],
   "source": []
  }
 ],
 "metadata": {
  "kernelspec": {
   "display_name": "Python 3 (ipykernel)",
   "language": "python",
   "name": "python3"
  },
  "language_info": {
   "codemirror_mode": {
    "name": "ipython",
    "version": 3
   },
   "file_extension": ".py",
   "mimetype": "text/x-python",
   "name": "python",
   "nbconvert_exporter": "python",
   "pygments_lexer": "ipython3",
   "version": "3.10.9"
  }
 },
 "nbformat": 4,
 "nbformat_minor": 5
}
