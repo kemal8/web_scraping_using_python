{
 "cells": [
  {
   "cell_type": "code",
   "execution_count": 6,
   "id": "5230d179",
   "metadata": {},
   "outputs": [
    {
     "name": "stdout",
     "output_type": "stream",
     "text": [
      "1982\n",
      "1980\n",
      "1973\n",
      "Hjds\n",
      "dsaiu\n",
      "hs\n"
     ]
    }
   ],
   "source": [
    "years = [1982,1980,1973,\"Hjds\",\"dsaiu\",\"hs\"]\n",
    "N = len(years)\n",
    "\n",
    "for i in range(N):\n",
    "    print(years[i])"
   ]
  },
  {
   "cell_type": "code",
   "execution_count": 8,
   "id": "364bae9d",
   "metadata": {},
   "outputs": [
    {
     "name": "stdout",
     "output_type": "stream",
     "text": [
      "1\n",
      "2\n",
      "3\n",
      "4\n",
      "5\n",
      "6\n",
      "7\n",
      "8\n",
      "9\n"
     ]
    }
   ],
   "source": [
    "for i in range(1,10):\n",
    "    print(i)"
   ]
  },
  {
   "cell_type": "code",
   "execution_count": 9,
   "id": "9be81da2",
   "metadata": {
    "scrolled": true
   },
   "outputs": [
    {
     "name": "stdout",
     "output_type": "stream",
     "text": [
      "1982\n",
      "1980\n",
      "1973\n",
      "Hjds\n",
      "dsaiu\n",
      "hs\n"
     ]
    }
   ],
   "source": [
    "for a in years:\n",
    "    print(a)"
   ]
  },
  {
   "cell_type": "markdown",
   "id": "63e9bf1a",
   "metadata": {},
   "source": [
    "# What is while loop?"
   ]
  },
  {
   "cell_type": "code",
   "execution_count": null,
   "id": "37c69919",
   "metadata": {},
   "outputs": [],
   "source": [
    "dates = [1982, 1980, 1456, 1325, 1973, 2000]\n",
    "\n",
    "i = 0\n",
    "year = dates[0]\n",
    "\n",
    "while (year != 1973):\n",
    "    print(dates)\n",
    "    i = 1 + i\n",
    "    year = datesp[i]\n",
    "    \n",
    "print (\"This End result took \", i ,\" Loops\")\n"
   ]
  },
  {
   "cell_type": "code",
   "execution_count": null,
   "id": "2aab9eae",
   "metadata": {},
   "outputs": [],
   "source": [
    "# While Loop Example\n",
    "\n",
    "dates = [1982, 1980, 1973, 2000]\n",
    "\n",
    "i = 0\n",
    "year = dates[0]\n",
    "\n",
    "while(year != 1973):    \n",
    "    print(year)\n",
    "    i = i + 1\n",
    "    year = dates[i]\n",
    "    \n",
    "\n",
    "print(\"It took \", i ,\"repetitions to get out of loop.\")"
   ]
  },
  {
   "cell_type": "code",
   "execution_count": null,
   "id": "34a546c0",
   "metadata": {},
   "outputs": [],
   "source": []
  }
 ],
 "metadata": {
  "kernelspec": {
   "display_name": "Python 3 (ipykernel)",
   "language": "python",
   "name": "python3"
  },
  "language_info": {
   "codemirror_mode": {
    "name": "ipython",
    "version": 3
   },
   "file_extension": ".py",
   "mimetype": "text/x-python",
   "name": "python",
   "nbconvert_exporter": "python",
   "pygments_lexer": "ipython3",
   "version": "3.10.9"
  }
 },
 "nbformat": 4,
 "nbformat_minor": 5
}
